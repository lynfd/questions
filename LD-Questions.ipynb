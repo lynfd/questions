{
 "cells": [
  {
   "cell_type": "markdown",
   "id": "c92b862f",
   "metadata": {},
   "source": [
    "## 1.\tWhat is the difference between list and tuples in Python?\n",
    "Lists are mutable and can be changed while tuples are immutable and cannot be changed."
   ]
  },
  {
   "cell_type": "code",
   "execution_count": 1,
   "id": "e63585df",
   "metadata": {},
   "outputs": [
    {
     "name": "stdout",
     "output_type": "stream",
     "text": [
      "[1, 2, 3, 4, 5]\n"
     ]
    }
   ],
   "source": [
    "list=[1,2,3,4,5]\n",
    "print(list)"
   ]
  },
  {
   "cell_type": "code",
   "execution_count": 2,
   "id": "3eb0f95c",
   "metadata": {},
   "outputs": [
    {
     "name": "stdout",
     "output_type": "stream",
     "text": [
      "[1, 2, 1, 4, 5]\n"
     ]
    }
   ],
   "source": [
    "list[2]=1\n",
    "print(list)"
   ]
  },
  {
   "cell_type": "code",
   "execution_count": 3,
   "id": "047c7141",
   "metadata": {},
   "outputs": [
    {
     "ename": "TypeError",
     "evalue": "'type' object does not support item assignment",
     "output_type": "error",
     "traceback": [
      "\u001b[1;31m---------------------------------------------------------------------------\u001b[0m",
      "\u001b[1;31mTypeError\u001b[0m                                 Traceback (most recent call last)",
      "Input \u001b[1;32mIn [3]\u001b[0m, in \u001b[0;36m<cell line: 1>\u001b[1;34m()\u001b[0m\n\u001b[1;32m----> 1\u001b[0m \u001b[38;5;28mtuple\u001b[39m[\u001b[38;5;241m2\u001b[39m]\u001b[38;5;241m=\u001b[39m\u001b[38;5;241m1\u001b[39m\n\u001b[0;32m      2\u001b[0m \u001b[38;5;28mprint\u001b[39m(\u001b[38;5;28mtuple\u001b[39m)\n",
      "\u001b[1;31mTypeError\u001b[0m: 'type' object does not support item assignment"
     ]
    }
   ],
   "source": [
    "tuple[2]=1\n",
    "print(tuple)"
   ]
  },
  {
   "cell_type": "markdown",
   "id": "8404111d",
   "metadata": {},
   "source": [
    "## 2. What are the key features of Python\n",
    "Python is free, easy to learn and use, portable, has a large standard library, and is extensive."
   ]
  },
  {
   "cell_type": "markdown",
   "id": "5a768dac",
   "metadata": {},
   "source": [
    "## 3. What are list comprehensions?\n",
    "List comprehensions are conditions that make up a list instead of inputing a list directly."
   ]
  },
  {
   "cell_type": "code",
   "execution_count": 16,
   "id": "6bef5139",
   "metadata": {},
   "outputs": [
    {
     "name": "stdout",
     "output_type": "stream",
     "text": [
      "[0, 2, 4, 6, 8, 10]\n",
      "[0, 2, 4, 6, 8, 10]\n"
     ]
    }
   ],
   "source": [
    "list1=[0,2,4,6,8,10]\n",
    "list2=[i for i in range(11) if i%2==0]\n",
    "print(list1)\n",
    "print(list2)"
   ]
  },
  {
   "cell_type": "markdown",
   "id": "245e2b39",
   "metadata": {},
   "source": [
    "## 4. What are the common built-in data types of Python?\n",
    "String, floating point, integer, tuple, list, dictionary"
   ]
  },
  {
   "cell_type": "markdown",
   "id": "b933b2ac",
   "metadata": {},
   "source": [
    "## 5. What is list slicing in Python?\n",
    "List slicing is a way to start at a specific point or end at a specific point in a list when printing. You can also do it so it skips by 2's or 3's or however many steps by following the pattern start : stop : step."
   ]
  },
  {
   "cell_type": "code",
   "execution_count": 5,
   "id": "d660e2a2",
   "metadata": {},
   "outputs": [
    {
     "name": "stdout",
     "output_type": "stream",
     "text": [
      "[1, 2]\n",
      "[1, 2, 3, 4]\n",
      "[1, 3, 5]\n"
     ]
    }
   ],
   "source": [
    "splice=[1,2,3,4,5,6]\n",
    "print(splice[:2])\n",
    "print(splice[0:4])\n",
    "print(splice[0:5:2])"
   ]
  },
  {
   "cell_type": "markdown",
   "id": "99f0c7ed",
   "metadata": {},
   "source": [
    "## 6. What are the reserved keywords in Python?\n",
    "The are words that have predefined meaning in Python already programmed into the language. This includes: and, as, in, if, is, True, False, elif, else, with, break."
   ]
  },
  {
   "cell_type": "markdown",
   "id": "58668e23",
   "metadata": {},
   "source": [
    "## 7. What are local variables and global variables in Python?\n",
    "Global variables are definied outside of a def function while local variables are in the def function."
   ]
  },
  {
   "cell_type": "markdown",
   "id": "db6bf1e7",
   "metadata": {},
   "source": [
    "## 8. Is Python case sensitive?\n",
    "Yes."
   ]
  },
  {
   "cell_type": "code",
   "execution_count": 6,
   "id": "edbdb9d3",
   "metadata": {},
   "outputs": [
    {
     "ename": "NameError",
     "evalue": "name 'LIST' is not defined",
     "output_type": "error",
     "traceback": [
      "\u001b[1;31m---------------------------------------------------------------------------\u001b[0m",
      "\u001b[1;31mNameError\u001b[0m                                 Traceback (most recent call last)",
      "Input \u001b[1;32mIn [6]\u001b[0m, in \u001b[0;36m<cell line: 1>\u001b[1;34m()\u001b[0m\n\u001b[1;32m----> 1\u001b[0m \u001b[38;5;28mprint\u001b[39m(\u001b[43mLIST\u001b[49m)\n",
      "\u001b[1;31mNameError\u001b[0m: name 'LIST' is not defined"
     ]
    }
   ],
   "source": [
    "print(LIST)"
   ]
  },
  {
   "cell_type": "markdown",
   "id": "698b729b",
   "metadata": {},
   "source": [
    "## 9. What are functions in Python?\n",
    "Functions are codes that are only run when specifically called."
   ]
  },
  {
   "cell_type": "code",
   "execution_count": 7,
   "id": "cbdbd550",
   "metadata": {},
   "outputs": [
    {
     "name": "stdout",
     "output_type": "stream",
     "text": [
      "Welcome Jonah\n"
     ]
    }
   ],
   "source": [
    "def name(fname):\n",
    "    return \"Welcome \"+fname\n",
    "\n",
    "print(name(\"Jonah\"))"
   ]
  },
  {
   "cell_type": "markdown",
   "id": "36a6f69d",
   "metadata": {},
   "source": [
    "## 10. What is __init__?\n",
    "The __init__ function initializes an objects attributes."
   ]
  },
  {
   "cell_type": "code",
   "execution_count": 8,
   "id": "1ecd0fe3",
   "metadata": {},
   "outputs": [],
   "source": [
    "class Cat:\n",
    "    def __init__(self,breed,color):\n",
    "        self.breed=breed\n",
    "        self.color=color"
   ]
  },
  {
   "cell_type": "markdown",
   "id": "08be9933",
   "metadata": {},
   "source": [
    "## 11. What is self in Python?\n",
    "Self allows the user to access attributes of the class in Python."
   ]
  },
  {
   "cell_type": "code",
   "execution_count": 9,
   "id": "5f5a6596",
   "metadata": {},
   "outputs": [
    {
     "name": "stdout",
     "output_type": "stream",
     "text": [
      "My cat is J.J. is an Orange Maine Coon\n"
     ]
    }
   ],
   "source": [
    "JJ=Cat(\"Maine Coon\",\"Orange\")\n",
    "print(\"My cat is J.J. is an\",JJ.color,JJ.breed)"
   ]
  },
  {
   "cell_type": "markdown",
   "id": "e55b6423",
   "metadata": {},
   "source": [
    "## 12. How does break and continue work with while loop?\n",
    "Break stops the loop where it is, continue makes the next line in the loop run."
   ]
  },
  {
   "cell_type": "markdown",
   "id": "77975acf",
   "metadata": {},
   "source": [
    "## 13. How can you generate random numbers in Python?\n",
    "You import random, then print(random.randint(starting point, ending point). For more than one number use the random.randrange() function instead."
   ]
  },
  {
   "cell_type": "code",
   "execution_count": 10,
   "id": "8df0a6a8",
   "metadata": {},
   "outputs": [
    {
     "name": "stdout",
     "output_type": "stream",
     "text": [
      "56\n",
      "[2, 14, 57, 75, 93, 85, 60, 89, 42, 23]\n"
     ]
    }
   ],
   "source": [
    "import random\n",
    "print(random.randint(0,100))\n",
    "print(random.sample(range(0,100),10))"
   ]
  },
  {
   "cell_type": "markdown",
   "id": "87fec260",
   "metadata": {},
   "source": [
    "## 14.\tWhat is a dictionary in Python?\n",
    "Dictionaries store values with a key."
   ]
  },
  {
   "cell_type": "code",
   "execution_count": 11,
   "id": "6ad0becd",
   "metadata": {},
   "outputs": [],
   "source": [
    "d = {\"Kentucky\":\"Frankfort\",\"Tennesse\":\"Nashville\"}"
   ]
  },
  {
   "cell_type": "markdown",
   "id": "15fe231f",
   "metadata": {},
   "source": [
    "## 15. What does this mean: args? And why would we use it?\n",
    "args means we can input multiple arguments into a definition. We use it to add things together or subtract or the like."
   ]
  },
  {
   "cell_type": "markdown",
   "id": "550cd10d",
   "metadata": {},
   "source": [
    "## 16. What does len() do?\n",
    "It returns the length of an object like a string or a list."
   ]
  },
  {
   "cell_type": "code",
   "execution_count": 12,
   "id": "035c3d2e",
   "metadata": {},
   "outputs": [
    {
     "data": {
      "text/plain": [
       "12"
      ]
     },
     "execution_count": 12,
     "metadata": {},
     "output_type": "execute_result"
    }
   ],
   "source": [
    "words=\"Hello World!\"\n",
    "len(words)"
   ]
  },
  {
   "cell_type": "markdown",
   "id": "ee1b4d8e",
   "metadata": {},
   "source": [
    "## 17. How to add and remove values from python list?\n",
    "You can append(\"object\") to add it from a list or use extend(\"object\") to add multiple items to the list. You can also use remove() to get rid of an object in a list."
   ]
  },
  {
   "cell_type": "code",
   "execution_count": 17,
   "id": "a18c1750",
   "metadata": {},
   "outputs": [
    {
     "name": "stdout",
     "output_type": "stream",
     "text": [
      "[0, 2, 4, 6, 8, 10]\n"
     ]
    }
   ],
   "source": [
    "print(list1)"
   ]
  },
  {
   "cell_type": "code",
   "execution_count": 18,
   "id": "7a0fea06",
   "metadata": {},
   "outputs": [
    {
     "name": "stdout",
     "output_type": "stream",
     "text": [
      "[0, 2, 4, 6, 8, 10, 12, 14, 15]\n"
     ]
    }
   ],
   "source": [
    "list1.append(12)\n",
    "list1.extend([14,15])\n",
    "print(list1)"
   ]
  },
  {
   "cell_type": "code",
   "execution_count": 19,
   "id": "93a69775",
   "metadata": {},
   "outputs": [
    {
     "name": "stdout",
     "output_type": "stream",
     "text": [
      "[0, 2, 4, 6, 8, 10, 12, 14]\n"
     ]
    }
   ],
   "source": [
    "list1.remove(15)\n",
    "print(list1)"
   ]
  },
  {
   "cell_type": "markdown",
   "id": "e31eedd5",
   "metadata": {},
   "source": [
    "## 18. Write a program to check if a number is prime"
   ]
  },
  {
   "cell_type": "code",
   "execution_count": 24,
   "id": "44aa372e",
   "metadata": {},
   "outputs": [
    {
     "name": "stdout",
     "output_type": "stream",
     "text": [
      "Please enter a number11\n",
      "That is a prime number\n"
     ]
    }
   ],
   "source": [
    "num=int(input(\"Please enter a number\"))\n",
    "\n",
    "if num>1:\n",
    "    for i in range(2,num):\n",
    "        if (num%i)==0:\n",
    "            print(\"That is not a prime number.\")\n",
    "            break\n",
    "        else:\n",
    "            print(\"That is a prime number\")\n",
    "            break"
   ]
  },
  {
   "cell_type": "markdown",
   "id": "31c933d1",
   "metadata": {},
   "source": [
    "## 19. Write a program in Python to check if a sequence is a Palindrome."
   ]
  },
  {
   "cell_type": "code",
   "execution_count": 28,
   "id": "073bf7ef",
   "metadata": {},
   "outputs": [
    {
     "name": "stdout",
     "output_type": "stream",
     "text": [
      "True\n"
     ]
    }
   ],
   "source": [
    "def palindrome(word):\n",
    "    word=word.lower().replace(' ','')\n",
    "    return word==word[::-1]\n",
    "\n",
    "word=\"Mom\"\n",
    "\n",
    "print(palindrome(word))"
   ]
  },
  {
   "cell_type": "markdown",
   "id": "6216a7f1",
   "metadata": {},
   "source": [
    "## 20.\tWhat Is the Difference Between Del and Remove() on Lists?\n",
    "del() deletes a specific index of the list while remove() searches the list to find the item."
   ]
  },
  {
   "cell_type": "code",
   "execution_count": 29,
   "id": "adf5209c",
   "metadata": {},
   "outputs": [
    {
     "name": "stdout",
     "output_type": "stream",
     "text": [
      "[0, 2, 4, 6, 8, 10, 12, 14]\n"
     ]
    }
   ],
   "source": [
    "print(list1)"
   ]
  },
  {
   "cell_type": "code",
   "execution_count": 31,
   "id": "37eb93bb",
   "metadata": {},
   "outputs": [
    {
     "name": "stdout",
     "output_type": "stream",
     "text": [
      "[0, 2, 4, 6, 8, 12, 14]\n"
     ]
    }
   ],
   "source": [
    "del list1[-3] #remove 10 from the list\n",
    "print(list1)"
   ]
  },
  {
   "cell_type": "code",
   "execution_count": 32,
   "id": "66c44c0f",
   "metadata": {},
   "outputs": [
    {
     "name": "stdout",
     "output_type": "stream",
     "text": [
      "[2, 4, 6, 8, 12, 14]\n"
     ]
    }
   ],
   "source": [
    "list1.remove(0)\n",
    "print(list1)"
   ]
  }
 ],
 "metadata": {
  "kernelspec": {
   "display_name": "Python 3 (ipykernel)",
   "language": "python",
   "name": "python3"
  },
  "language_info": {
   "codemirror_mode": {
    "name": "ipython",
    "version": 3
   },
   "file_extension": ".py",
   "mimetype": "text/x-python",
   "name": "python",
   "nbconvert_exporter": "python",
   "pygments_lexer": "ipython3",
   "version": "3.9.12"
  }
 },
 "nbformat": 4,
 "nbformat_minor": 5
}
